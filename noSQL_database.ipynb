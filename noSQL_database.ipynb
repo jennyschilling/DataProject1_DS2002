{
  "nbformat": 4,
  "nbformat_minor": 0,
  "metadata": {
    "colab": {
      "provenance": [],
      "authorship_tag": "ABX9TyOJMRhizBBrGEdcBxN6ElaS",
      "include_colab_link": true
    },
    "kernelspec": {
      "name": "python3",
      "display_name": "Python 3"
    },
    "language_info": {
      "name": "python"
    }
  },
  "cells": [
    {
      "cell_type": "markdown",
      "metadata": {
        "id": "view-in-github",
        "colab_type": "text"
      },
      "source": [
        "<a href=\"https://colab.research.google.com/github/jennyschilling/DataProject1_DS2002/blob/main/noSQL_database.ipynb\" target=\"_parent\"><img src=\"https://colab.research.google.com/assets/colab-badge.svg\" alt=\"Open In Colab\"/></a>"
      ]
    },
    {
      "cell_type": "code",
      "execution_count": null,
      "metadata": {
        "id": "GXRV10E8W7Nt"
      },
      "outputs": [],
      "source": [
        "# integrating data from a NoSQL database - reviews in product dimension - denormalization"
      ]
    },
    {
      "cell_type": "markdown",
      "source": [
        "\n",
        "\n",
        "1. Fetch reviews from MongoDB\n",
        "2. Transform reviews into a DataFrame\n",
        "3. Add columns like 'review_text' and 'review_rating' to the 'product_dim' table in your SQL databases\n",
        "4. Update the 'product_dim' with the new review data\n",
        "\n"
      ],
      "metadata": {
        "id": "uE7S1NUjXgjc"
      }
    },
    {
      "cell_type": "code",
      "source": [
        "import pymongo\n",
        "import pandas as pd\n",
        "import pymysql\n",
        "from faker import Faker"
      ],
      "metadata": {
        "id": "N07AEzkvXaxH"
      },
      "execution_count": null,
      "outputs": []
    },
    {
      "cell_type": "code",
      "source": [
        "client = pymongo.MongoClient(\"your_mongodb_connection_string\")\n",
        "db = client[\"your_database_name\"]"
      ],
      "metadata": {
        "id": "E2zmBOcjXRwC"
      },
      "execution_count": null,
      "outputs": []
    },
    {
      "cell_type": "code",
      "source": [
        "reviews_collection = db[\"product_reviews\"]\n",
        "\n",
        "for _ in range(100): # generates 100 random reviews\n",
        "    review = {\n",
        "        \"product_id\": fake.random_int(min=1, max=100), # change to be the range of my product id's\n",
        "        \"reviewer\": fake.name(),\n",
        "        \"review_text\": fake.paragraph(nb_sentences=3),\n",
        "        \"rating\": fake.random_int(min=1, max=5)\n",
        "    }\n",
        "    reviews_collection.insert_one(review)"
      ],
      "metadata": {
        "id": "CjSodkrKYkgo"
      },
      "execution_count": null,
      "outputs": []
    },
    {
      "cell_type": "code",
      "source": [
        "results = collection.find()"
      ],
      "metadata": {
        "id": "xNkpLYUwXYB3"
      },
      "execution_count": null,
      "outputs": []
    },
    {
      "cell_type": "code",
      "source": [
        "df = pd.DataFrame(list(results))"
      ],
      "metadata": {
        "id": "MOkd7bYhXdA2"
      },
      "execution_count": null,
      "outputs": []
    }
  ]
}