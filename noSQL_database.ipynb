{
  "cells": [
    {
      "cell_type": "code",
      "execution_count": null,
      "metadata": {
        "id": "GXRV10E8W7Nt"
      },
      "outputs": [],
      "source": [
        "# integrating data from a NoSQL database - reviews in product dimension - denormalization"
      ]
    },
    {
      "cell_type": "markdown",
      "metadata": {
        "id": "uE7S1NUjXgjc"
      },
      "source": [
        "\n",
        "\n",
        "1. I use the 'faker' python module to generate some random review data for each product\n",
        "2. Then I get these reviews from the MongoDB,\n",
        "3. Transform reviews into a DataFrame,\n",
        "4. Add columns 'reviewer', 'review_text', and 'review_rating' to the 'product_dim' table in my SQL database,\n",
        "5. Update the 'product_dim' with the new review data.\n",
        "\n"
      ]
    },
    {
      "cell_type": "code",
      "execution_count": null,
      "metadata": {
        "id": "N07AEzkvXaxH"
      },
      "outputs": [],
      "source": [
        "import pymongo\n",
        "import pandas as pd\n",
        "import pymysql\n",
        "from faker import Faker"
      ]
    },
    {
      "cell_type": "code",
      "execution_count": null,
      "metadata": {
        "id": "E2zmBOcjXRwC"
      },
      "outputs": [],
      "source": [
        "client = pymongo.MongoClient(\"mongodb://localhost:27017\")\n",
        "db = client[\"local\"]"
      ]
    },
    {
      "cell_type": "code",
      "execution_count": null,
      "metadata": {
        "id": "CjSodkrKYkgo"
      },
      "outputs": [],
      "source": [
        "reviews_collection = db[\"product_reviews\"]\n",
        "fake = Faker()\n",
        "\n",
        "for i in range(110): # generates 110 random reviews in our mongoDB collection\n",
        "    review = {\n",
        "        \"product_key\": i+1,\n",
        "        \"reviewer\": fake.name(),\n",
        "        \"review_text\": fake.paragraph(nb_sentences=3),\n",
        "        \"rating\": fake.random_int(min=1, max=5)\n",
        "    }\n",
        "    reviews_collection.insert_one(review)"
      ]
    },
    {
      "cell_type": "code",
      "execution_count": null,
      "metadata": {
        "id": "xNkpLYUwXYB3"
      },
      "outputs": [],
      "source": [
        "results = reviews_collection.find()"
      ]
    },
    {
      "cell_type": "code",
      "execution_count": null,
      "metadata": {
        "id": "MOkd7bYhXdA2"
      },
      "outputs": [],
      "source": [
        "reviews_df = pd.DataFrame(list(results))"
      ]
    },
    {
      "cell_type": "code",
      "execution_count": null,
      "metadata": {
        "id": "k_Xv9do-PPWd",
        "outputId": "e539cf23-c299-476e-96bd-1e13ced9368c"
      },
      "outputs": [
        {
          "data": {
            "text/html": [
              "<div>\n",
              "<style scoped>\n",
              "    .dataframe tbody tr th:only-of-type {\n",
              "        vertical-align: middle;\n",
              "    }\n",
              "\n",
              "    .dataframe tbody tr th {\n",
              "        vertical-align: top;\n",
              "    }\n",
              "\n",
              "    .dataframe thead th {\n",
              "        text-align: right;\n",
              "    }\n",
              "</style>\n",
              "<table border=\"1\" class=\"dataframe\">\n",
              "  <thead>\n",
              "    <tr style=\"text-align: right;\">\n",
              "      <th></th>\n",
              "      <th>_id</th>\n",
              "      <th>product_key</th>\n",
              "      <th>reviewer</th>\n",
              "      <th>review_text</th>\n",
              "      <th>rating</th>\n",
              "    </tr>\n",
              "  </thead>\n",
              "  <tbody>\n",
              "    <tr>\n",
              "      <th>0</th>\n",
              "      <td>660de075fac3316f28118801</td>\n",
              "      <td>1</td>\n",
              "      <td>Jennifer Lawson</td>\n",
              "      <td>Forget second police admit beautiful item. Pro...</td>\n",
              "      <td>2</td>\n",
              "    </tr>\n",
              "    <tr>\n",
              "      <th>1</th>\n",
              "      <td>660de075fac3316f28118802</td>\n",
              "      <td>2</td>\n",
              "      <td>Ian Melendez</td>\n",
              "      <td>Interesting senior someone half. Church throug...</td>\n",
              "      <td>4</td>\n",
              "    </tr>\n",
              "    <tr>\n",
              "      <th>2</th>\n",
              "      <td>660de075fac3316f28118803</td>\n",
              "      <td>3</td>\n",
              "      <td>Travis Jackson</td>\n",
              "      <td>Agency skin himself option paper subject upon....</td>\n",
              "      <td>2</td>\n",
              "    </tr>\n",
              "    <tr>\n",
              "      <th>3</th>\n",
              "      <td>660de075fac3316f28118804</td>\n",
              "      <td>4</td>\n",
              "      <td>Scott Shaw</td>\n",
              "      <td>Quality fall much crime could. Today network p...</td>\n",
              "      <td>3</td>\n",
              "    </tr>\n",
              "    <tr>\n",
              "      <th>4</th>\n",
              "      <td>660de075fac3316f28118805</td>\n",
              "      <td>5</td>\n",
              "      <td>Abigail Ross</td>\n",
              "      <td>Know cultural be tell local. Career suddenly h...</td>\n",
              "      <td>3</td>\n",
              "    </tr>\n",
              "  </tbody>\n",
              "</table>\n",
              "</div>"
            ],
            "text/plain": [
              "                        _id  product_key         reviewer  \\\n",
              "0  660de075fac3316f28118801            1  Jennifer Lawson   \n",
              "1  660de075fac3316f28118802            2     Ian Melendez   \n",
              "2  660de075fac3316f28118803            3   Travis Jackson   \n",
              "3  660de075fac3316f28118804            4       Scott Shaw   \n",
              "4  660de075fac3316f28118805            5     Abigail Ross   \n",
              "\n",
              "                                         review_text  rating  \n",
              "0  Forget second police admit beautiful item. Pro...       2  \n",
              "1  Interesting senior someone half. Church throug...       4  \n",
              "2  Agency skin himself option paper subject upon....       2  \n",
              "3  Quality fall much crime could. Today network p...       3  \n",
              "4  Know cultural be tell local. Career suddenly h...       3  "
            ]
          },
          "execution_count": 10,
          "metadata": {},
          "output_type": "execute_result"
        }
      ],
      "source": [
        "reviews_df.head(5)"
      ]
    },
    {
      "cell_type": "markdown",
      "metadata": {
        "id": "M7rXUpQRPPWe"
      },
      "source": [
        "Now we can add in our mongoDB data to our sql table:"
      ]
    },
    {
      "cell_type": "code",
      "execution_count": null,
      "metadata": {
        "id": "TQBMo5hGPPWg",
        "outputId": "755d0fa8-9e39-4d7d-83d8-f5d892b2ff0f"
      },
      "outputs": [
        {
          "name": "stderr",
          "output_type": "stream",
          "text": [
            "C:\\Users\\ds2002-student\\AppData\\Local\\Temp\\2\\ipykernel_9040\\2646952924.py:8: UserWarning: pandas only supports SQLAlchemy connectable (engine/connection) or database string URI or sqlite3 DBAPI2 connection. Other DBAPI2 objects are not tested. Please consider using SQLAlchemy.\n",
            "  product_dim = pd.read_sql('SELECT product_key, product_id, product_name, product_line, quantity_in_stock, product_price FROM product_dim', conn)\n"
          ]
        }
      ],
      "source": [
        "db_config = {\n",
        "    'host': 'localhost',\n",
        "    'user': 'root',\n",
        "    'password': 'Passw0rd123',\n",
        "    'database': 'retail_sales_dw'\n",
        "}\n",
        "conn = pymysql.connect(**db_config)\n",
        "product_dim = pd.read_sql('SELECT product_key, product_id, product_name, product_line, quantity_in_stock, product_price FROM product_dim', conn)\n",
        "merged_df = pd.merge(product_dim, reviews_df, on=['product_key'], how='left')\n",
        "cursor = conn.cursor()"
      ]
    },
    {
      "cell_type": "code",
      "execution_count": null,
      "metadata": {
        "id": "ycnElru4PPWg",
        "outputId": "3de77764-9752-4c91-c1d4-038349b6ef9d"
      },
      "outputs": [
        {
          "data": {
            "text/plain": [
              "0"
            ]
          },
          "execution_count": 14,
          "metadata": {},
          "output_type": "execute_result"
        }
      ],
      "source": [
        "cursor.execute(\"ALTER TABLE product_dim ADD COLUMN reviewer varchar(50)\")\n",
        "cursor.execute(\"ALTER TABLE product_dim ADD COLUMN review_text text\")\n",
        "cursor.execute(\"ALTER TABLE product_dim ADD COLUMN rating INT\")"
      ]
    },
    {
      "cell_type": "code",
      "execution_count": null,
      "metadata": {
        "id": "ed2zJ3vNPPWh"
      },
      "outputs": [],
      "source": [
        "for index, row in merged_df.iterrows():\n",
        "    update_query = \"\"\"\n",
        "        UPDATE product_dim\n",
        "        SET reviewer = %s\n",
        "        WHERE product_key = %s\n",
        "    \"\"\"\n",
        "    values = (row['reviewer'], row['product_key'])\n",
        "    cursor.execute(update_query, values)"
      ]
    },
    {
      "cell_type": "code",
      "execution_count": null,
      "metadata": {
        "id": "7xyEV2FnPPWh"
      },
      "outputs": [],
      "source": [
        "for index, row in merged_df.iterrows():\n",
        "    update_query = \"\"\"\n",
        "        UPDATE product_dim\n",
        "        SET review_text = %s\n",
        "        WHERE product_key = %s\n",
        "    \"\"\"\n",
        "    values = (row['review_text'], row['product_key'])\n",
        "    cursor.execute(update_query, values)"
      ]
    },
    {
      "cell_type": "code",
      "execution_count": null,
      "metadata": {
        "id": "QJYHcyFRPPWi"
      },
      "outputs": [],
      "source": [
        "for index, row in merged_df.iterrows():\n",
        "    update_query = \"\"\"\n",
        "        UPDATE product_dim\n",
        "        SET rating = %s\n",
        "        WHERE product_key = %s\n",
        "    \"\"\"\n",
        "    values = (row['rating'], row['product_key'])\n",
        "    cursor.execute(update_query, values)"
      ]
    },
    {
      "cell_type": "code",
      "execution_count": null,
      "metadata": {
        "id": "GP38iKEiPPWm"
      },
      "outputs": [],
      "source": [
        "conn.commit()\n",
        "conn.close()"
      ]
    }
  ],
  "metadata": {
    "colab": {
      "provenance": []
    },
    "kernelspec": {
      "display_name": "Python 3 (ipykernel)",
      "language": "python",
      "name": "python3"
    },
    "language_info": {
      "codemirror_mode": {
        "name": "ipython",
        "version": 3
      },
      "file_extension": ".py",
      "mimetype": "text/x-python",
      "name": "python",
      "nbconvert_exporter": "python",
      "pygments_lexer": "ipython3",
      "version": "3.11.3"
    }
  },
  "nbformat": 4,
  "nbformat_minor": 0
}