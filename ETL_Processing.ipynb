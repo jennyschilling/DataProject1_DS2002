{
  "nbformat": 4,
  "nbformat_minor": 0,
  "metadata": {
    "colab": {
      "provenance": [],
      "authorship_tag": "ABX9TyOslTviTYER+kohrvmIXwvR",
      "include_colab_link": true
    },
    "kernelspec": {
      "name": "python3",
      "display_name": "Python 3"
    },
    "language_info": {
      "name": "python"
    }
  },
  "cells": [
    {
      "cell_type": "markdown",
      "metadata": {
        "id": "view-in-github",
        "colab_type": "text"
      },
      "source": [
        "<a href=\"https://colab.research.google.com/github/jennyschilling/DataProject1_DS2002/blob/main/ETL_Processing.ipynb\" target=\"_parent\"><img src=\"https://colab.research.google.com/assets/colab-badge.svg\" alt=\"Open In Colab\"/></a>"
      ]
    },
    {
      "cell_type": "code",
      "execution_count": null,
      "metadata": {
        "id": "e9f7fe77"
      },
      "outputs": [],
      "source": [
        "import os\n",
        "import numpy\n",
        "import pandas as pd\n",
        "from sqlalchemy import create_engine"
      ]
    },
    {
      "cell_type": "code",
      "execution_count": null,
      "metadata": {
        "id": "6c1a3519"
      },
      "outputs": [],
      "source": [
        "host_name = \"localhost\"\n",
        "port = \"3306\"\n",
        "user_id = \"root\"\n",
        "pwd = \"Passw0rd123\"\n",
        "\n",
        "src_dbname = \"classicmodels\"\n",
        "dst_dbname = \"retail_sales_dw\""
      ]
    },
    {
      "cell_type": "code",
      "execution_count": null,
      "metadata": {
        "id": "8c9d366a"
      },
      "outputs": [],
      "source": [
        "def get_dataframe(user_id, pwd, host_name, db_name, sql_query):\n",
        "    conn_str = f\"mysql+pymysql://{user_id}:{pwd}@{host_name}/{db_name}\"\n",
        "    sqlEngine = create_engine(conn_str, pool_recycle=3600)\n",
        "    connection = sqlEngine.connect()\n",
        "    dframe = pd.read_sql(sql_query, connection);\n",
        "    connection.close()\n",
        "\n",
        "    return dframe\n",
        "\n",
        "\n",
        "def set_dataframe(user_id, pwd, host_name, db_name, df, table_name, pk_column, db_operation):\n",
        "    conn_str = f\"mysql+pymysql://{user_id}:{pwd}@{host_name}/{db_name}\"\n",
        "    sqlEngine = create_engine(conn_str, pool_recycle=3600)\n",
        "    connection = sqlEngine.connect()\n",
        "\n",
        "    if db_operation == \"insert\":\n",
        "        df.to_sql(table_name, con=connection, index=False, if_exists='replace')\n",
        "        connection.execute(f\"ALTER TABLE {table_name} ADD PRIMARY KEY ({pk_column});\")\n",
        "\n",
        "    elif db_operation == \"update\":\n",
        "        df.to_sql(table_name, con=connection, index=False, if_exists='append')\n",
        "\n",
        "    connection.close()"
      ]
    },
    {
      "cell_type": "code",
      "execution_count": null,
      "metadata": {
        "id": "70548734"
      },
      "outputs": [],
      "source": [
        "conn_str = f\"mysql+pymysql://{user_id}:{pwd}@{host_name}\"\n",
        "sqlEngine = create_engine(conn_str, pool_recycle=3600)\n",
        "connection = sqlEngine.connect()\n",
        "\n",
        "# connection.execute(f\"DROP DATABASE IF EXISTS `{dst_dbname}`;\")\n",
        "# connection.execute(f\"CREATE DATABASE `{dst_dbname}`;\")\n",
        "connection.execute(f\"USE {dst_dbname};\")\n",
        "\n",
        "connection.close()"
      ]
    },
    {
      "cell_type": "code",
      "execution_count": null,
      "metadata": {
        "id": "8efbe3db"
      },
      "outputs": [],
      "source": [
        "sql_customers = \"SELECT * FROM northwind.customers;\"\n",
        "df_customers = get_dataframe(user_id, pwd, host_name, src_dbname, sql_customers)\n",
        "df_customers.head(2)"
      ]
    },
    {
      "cell_type": "code",
      "execution_count": null,
      "metadata": {
        "id": "6a278a0c"
      },
      "outputs": [],
      "source": [
        "sql_employees = \"SELECT * FROM northwind.employees;\"\n",
        "df_employees = get_dataframe(user_id, pwd, host_name, src_dbname, sql_customers)\n",
        "df_employees.head(2)"
      ]
    },
    {
      "cell_type": "code",
      "execution_count": null,
      "metadata": {
        "id": "c09c57ab"
      },
      "outputs": [],
      "source": [
        "# 1. Create a List that enumerates the names of each column you wish to remove (drop) from the Pandas DataFrame\n",
        "drop_cols = ['email_address','home_phone','mobile_phone','web_page','notes','attachments']\n",
        "df_customers.drop(drop_cols, axis=1, inplace=True)\n",
        "\n",
        "# 2. Rename the \"id\" column to reflect the entity as it will serve as the business key for lookup operations\n",
        "df_customers.rename(columns={\"id\":\"customer_id\"}, inplace=True)\n",
        "\n",
        "# 3. Insert a new column, with an ever-incrementing numeric value, to serve as the primary key.\n",
        "df_customers.insert(0, \"customer_key\", range(1, df_customers.shape[0]+1))\n",
        "\n",
        "# 4. Display the first 2 rows of the dataframe to validate your work\n",
        "df_customers.head(2)"
      ]
    },
    {
      "cell_type": "code",
      "execution_count": null,
      "metadata": {
        "scrolled": true,
        "id": "5a618aa4"
      },
      "outputs": [],
      "source": [
        "drop_cols = ['mobile_phone','notes','attachments']\n",
        "df_employees.drop(drop_cols, axis=1, inplace=True)\n",
        "df_employees.rename(columns={\"id\":\"employee_id\"}, inplace=True)\n",
        "df_employees.insert(0, \"employee_key\", range(1, df_employees.shape[0]+1))\n",
        "df_employees.head(2)"
      ]
    },
    {
      "cell_type": "code",
      "execution_count": null,
      "metadata": {
        "id": "2d90d322"
      },
      "outputs": [],
      "source": [
        "drop_cols = ['supplier_ids','description','attachments']\n",
        "df_products.drop(drop_cols, axis=1, inplace=True)\n",
        "df_products.rename(columns={\"id\":\"product_id\"}, inplace=True)\n",
        "df_products.insert(0, \"product_key\", range(1, df_products.shape[0]+1))\n",
        "df_products.head(2)"
      ]
    },
    {
      "cell_type": "code",
      "execution_count": null,
      "metadata": {
        "id": "b8b84457"
      },
      "outputs": [],
      "source": [
        "db_operation = \"insert\"\n",
        "\n",
        "tables = [('dim_customers', df_customers, 'customer_key'),\n",
        "          ('dim_employees', df_employees, 'employee_key'),\n",
        "          ('dim_products', df_products, 'product_key'),\n",
        "          ('dim_shippers', df_shippers, 'shipper_key')]"
      ]
    },
    {
      "cell_type": "code",
      "execution_count": null,
      "metadata": {
        "id": "74821a34"
      },
      "outputs": [],
      "source": [
        "for table_name, dataframe, primary_key in tables:\n",
        "    set_dataframe(user_id, pwd, host_name, dst_dbname, dataframe, table_name, primary_key, db_operation)"
      ]
    },
    {
      "cell_type": "code",
      "execution_count": null,
      "metadata": {
        "id": "b16ff332"
      },
      "outputs": [],
      "source": [
        "sql_fact_orders = \"\"\"\n",
        "    SELECT o.id AS order_id,\n",
        "        od.id AS order_detail_id,\n",
        "        o.customer_id,\n",
        "        o.employee_id,\n",
        "        od.product_id,\n",
        "        o.shipper_id,\n",
        "        o.order_date,\n",
        "        o.paid_date,\n",
        "        o.shipped_date,\n",
        "        o.payment_type,\n",
        "        od.quantity,\n",
        "        od.unit_price,\n",
        "        od.discount,\n",
        "        o.shipping_fee,\n",
        "        o.taxes,\n",
        "        o.tax_rate,\n",
        "        os.status_name AS order_status,\n",
        "        ods.status_name AS order_details_status\n",
        "    FROM northwind.orders AS o\n",
        "    INNER JOIN northwind.orders_status AS os\n",
        "    ON o.status_id = os.id\n",
        "    RIGHT OUTER JOIN northwind.order_details AS od\n",
        "    ON o.id = od.order_id\n",
        "    INNER JOIN northwind.order_details_status AS ods\n",
        "    ON od.status_id = ods.id;\n",
        "\"\"\"\n",
        "\n",
        "df_fact_orders = get_dataframe(user_id, pwd, host_name, src_dbname, sql_fact_orders)\n",
        "df_fact_orders.head(2)"
      ]
    },
    {
      "cell_type": "code",
      "execution_count": null,
      "metadata": {
        "id": "17596425"
      },
      "outputs": [],
      "source": [
        "sql_orders = \"SELECT * FROM northwind.orders;\"\n",
        "df_orders = get_dataframe(user_id, pwd, host_name, src_dbname, sql_orders)\n",
        "df_orders.rename(columns={\"id\":\"order_id\"}, inplace=True)\n",
        "df_orders.head(2)"
      ]
    },
    {
      "cell_type": "code",
      "execution_count": null,
      "metadata": {
        "id": "9b138ca6"
      },
      "outputs": [],
      "source": [
        "sql_orders_status = \"SELECT * FROM northwind.orders_status;\"\n",
        "df_orders_status = get_dataframe(user_id, pwd, host_name, src_dbname, sql_orders_status)\n",
        "df_orders_status.rename(columns={\"id\":\"status_id\"}, inplace=True)\n",
        "df_orders_status.head(2)"
      ]
    },
    {
      "cell_type": "code",
      "execution_count": null,
      "metadata": {
        "id": "fa0f524d"
      },
      "outputs": [],
      "source": [
        "df_orders = pd.merge(df_orders, df_orders_status, on='status_id', how='inner')\n",
        "df_orders.rename(columns={\"status_name\":\"order_status\"}, inplace=True)\n",
        "df_orders.drop(['status_id'], axis=1, inplace=True)\n",
        "df_orders.head(2)"
      ]
    },
    {
      "cell_type": "code",
      "execution_count": null,
      "metadata": {
        "id": "c56ee5ce"
      },
      "outputs": [],
      "source": [
        "df_order_details = pd.merge(df_order_details, df_order_details_status, on='status_id', how='inner')\n",
        "df_order_details.rename(columns={\"status_name\":\"order_details_status\"}, inplace=True)\n",
        "df_order_details.drop(['status_id'], axis=1, inplace=True)\n",
        "df_order_details.head(2)"
      ]
    },
    {
      "cell_type": "code",
      "execution_count": null,
      "metadata": {
        "id": "8503ce28"
      },
      "outputs": [],
      "source": [
        "df_fact_orders = pd.merge(df_orders, df_order_details, on='order_id', how='right')\n",
        "df_fact_orders.head(2)"
      ]
    },
    {
      "cell_type": "code",
      "execution_count": null,
      "metadata": {
        "id": "e7117fa3"
      },
      "outputs": [],
      "source": [
        "df_fact_orders.shape"
      ]
    },
    {
      "cell_type": "code",
      "execution_count": null,
      "metadata": {
        "id": "699b01a6"
      },
      "outputs": [],
      "source": [
        "sql_dim_customers = \"SELECT customer_key, customer_id FROM northwind_dw2.dim_customers;\"\n",
        "df_dim_customers = get_dataframe(user_id, pwd, host_name, src_dbname, sql_dim_customers)\n",
        "df_dim_customers.head(2)"
      ]
    },
    {
      "cell_type": "code",
      "execution_count": null,
      "metadata": {
        "id": "89ac5796"
      },
      "outputs": [],
      "source": [
        "sql_dim_employees = \"SELECT employee_key, employee_id FROM northwind_dw2.dim_employees;\"\n",
        "df_dim_employees = get_dataframe(user_id, pwd, host_name, src_dbname, sql_dim_employees)\n",
        "df_dim_employees.head(2)"
      ]
    },
    {
      "cell_type": "code",
      "execution_count": null,
      "metadata": {
        "id": "81501aa3"
      },
      "outputs": [],
      "source": [
        "df_fact_orders = pd.merge(df_fact_orders, df_dim_customers, on='customer_id', how='inner')\n",
        "df_fact_orders.drop(['customer_id'], axis=1, inplace=True)\n",
        "df_fact_orders.head(2)"
      ]
    },
    {
      "cell_type": "code",
      "execution_count": null,
      "metadata": {
        "id": "c76383dc"
      },
      "outputs": [],
      "source": [
        "sql_dim_date = \"SELECT date_key, full_date FROM northwind_dw.dim_date;\"\n",
        "df_dim_date = get_dataframe(user_id, pwd, host_name, src_dbname, sql_dim_date)\n",
        "df_dim_date.full_date = df_dim_date.full_date.astype('datetime64[ns]').dt.date\n",
        "df_dim_date.head(2)"
      ]
    },
    {
      "cell_type": "code",
      "execution_count": null,
      "metadata": {
        "id": "f8665b8e"
      },
      "outputs": [],
      "source": [
        "# Lookup the Surrogate Primary Key (date_key) that Corresponds to the \"order_date\" Column.\n",
        "df_dim_order_date = df_dim_date.rename(columns={\"date_key\" : \"order_date_key\", \"full_date\" : \"order_date\"})\n",
        "df_fact_orders.order_date = df_fact_orders.order_date.astype('datetime64[ns]').dt.date\n",
        "\n",
        "df_fact_orders = pd.merge(df_fact_orders, df_dim_order_date, on='order_date', how='left')\n",
        "df_fact_orders.drop(['order_date'], axis=1, inplace=True)\n",
        "df_fact_orders.head(2)"
      ]
    },
    {
      "cell_type": "code",
      "execution_count": null,
      "metadata": {
        "id": "15b7fad9"
      },
      "outputs": [],
      "source": [
        "# 1. Drop the columns of no particular interest\n",
        "drop_columns = ['notes', 'tax_status_id', 'purchase_order_id', 'inventory_id', 'date_allocated',\n",
        "               'ship_name', 'ship_address', 'ship_city', 'ship_state_province', 'ship_zip_postal_code', 'ship_country_region']\n",
        "df_fact_orders.drop(drop_columns, axis=1, inplace=True)\n",
        "\n",
        "# 2. Reorder the remaining columns\n",
        "ordered_columns = ['order_id', 'order_detail_id', 'customer_key', 'employee_key', 'product_key', 'shipper_key',\n",
        "                  'order_date_key', 'paid_date_key', 'shipped_date_key', 'payment_type', 'quantity', 'unit_price', 'discount',\n",
        "                  'shipping_fee', 'taxes', 'tax_rate', 'order_status', 'order_details_status']\n",
        "df_fact_orders = df_fact_orders[ordered_columns]\n",
        "\n",
        "# 3. Insert a new column, with an ever-incrementing numeric value, to serve as the primary key.\n",
        "df_fact_orders.insert(0, \"fact_order_key\", range(1, df_fact_orders.shape[0]+1))\n",
        "# 4. Display the first 2 rows of the dataframe to validate your work\n",
        "df_fact_orders.head(2)"
      ]
    },
    {
      "cell_type": "code",
      "execution_count": null,
      "metadata": {
        "id": "d67a4724"
      },
      "outputs": [],
      "source": [
        "table_name = \"fact_orders\"\n",
        "primary_key = \"fact_order_key\"\n",
        "db_operation = \"insert\"\n",
        "\n",
        "set_dataframe(user_id, pwd, host_name, dst_dbname, df_fact_orders, table_name, primary_key, db_operation)"
      ]
    }
  ]
}
