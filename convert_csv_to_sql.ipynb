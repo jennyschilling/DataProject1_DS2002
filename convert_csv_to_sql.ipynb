{
  "cells": [
    {
      "cell_type": "code",
      "execution_count": null,
      "metadata": {
        "id": "vmtFgEU3lJMA"
      },
      "outputs": [],
      "source": [
        "import pandas as pd\n",
        "import pymysql"
      ]
    },
    {
      "cell_type": "code",
      "execution_count": null,
      "metadata": {
        "id": "yxyk5FGNmK0L"
      },
      "outputs": [],
      "source": [
        "db_config = {\n",
        "    'host': 'localhost',\n",
        "    'user': 'root',\n",
        "    'password': 'Passw0rd123',\n",
        "    'database': 'retail_sales_dw'\n",
        "}"
      ]
    },
    {
      "cell_type": "code",
      "execution_count": null,
      "metadata": {
        "id": "nbbjShaUmPkD"
      },
      "outputs": [],
      "source": [
        "customer_vip_data = pd.read_csv('./customer_vip_info.csv')\n",
        "customer_vip_data.iloc[:, 2:] = customer_vip_data.iloc[:, 2:].astype(bool)"
      ]
    },
    {
      "cell_type": "code",
      "execution_count": null,
      "metadata": {
        "id": "q3Rcgz5wmRDA",
        "scrolled": true,
        "outputId": "463c9c02-f88a-46eb-dceb-791f7da35cb2"
      },
      "outputs": [
        {
          "name": "stderr",
          "output_type": "stream",
          "text": [
            "C:\\Users\\ds2002-student\\AppData\\Local\\Temp\\2\\ipykernel_8136\\2674082246.py:2: UserWarning: pandas only supports SQLAlchemy connectable (engine/connection) or database string URI or sqlite3 DBAPI2 connection. Other DBAPI2 objects are not tested. Please consider using SQLAlchemy.\n",
            "  customer_dim = pd.read_sql('SELECT customer_id, first_name, last_name, phone, credit_limit FROM customer_dim', conn)\n"
          ]
        }
      ],
      "source": [
        "conn = pymysql.connect(**db_config)\n",
        "customer_dim = pd.read_sql('SELECT customer_id, first_name, last_name, phone, credit_limit FROM customer_dim', conn)\n",
        "\n",
        "merged_df = pd.merge(customer_dim, customer_vip_data, on=['first_name', 'last_name'], how='left')"
      ]
    },
    {
      "cell_type": "code",
      "execution_count": null,
      "metadata": {
        "id": "KNRSji2zmS7N",
        "scrolled": true,
        "outputId": "cf398bc3-8473-48c9-e2d6-aceae8b7285c"
      },
      "outputs": [
        {
          "data": {
            "text/plain": [
              "0"
            ]
          },
          "execution_count": 19,
          "metadata": {},
          "output_type": "execute_result"
        }
      ],
      "source": [
        "merged_df['is_vip'] = merged_df['is_vip'].fillna(False)\n",
        "conn = pymysql.connect(**db_config)\n",
        "cursor = conn.cursor()\n",
        "\n",
        "# cursor.execute(\"ALTER TABLE customer_dim DROP COLUMN is_vip\")\n",
        "cursor.execute(\"ALTER TABLE customer_dim ADD COLUMN is_vip BOOL\")"
      ]
    },
    {
      "cell_type": "code",
      "execution_count": null,
      "metadata": {
        "id": "RDAHL38GpLbf",
        "outputId": "318668df-63fc-4d62-ea23-48610a974fe3"
      },
      "outputs": [
        {
          "data": {
            "text/html": [
              "<div>\n",
              "<style scoped>\n",
              "    .dataframe tbody tr th:only-of-type {\n",
              "        vertical-align: middle;\n",
              "    }\n",
              "\n",
              "    .dataframe tbody tr th {\n",
              "        vertical-align: top;\n",
              "    }\n",
              "\n",
              "    .dataframe thead th {\n",
              "        text-align: right;\n",
              "    }\n",
              "</style>\n",
              "<table border=\"1\" class=\"dataframe\">\n",
              "  <thead>\n",
              "    <tr style=\"text-align: right;\">\n",
              "      <th></th>\n",
              "      <th>customer_id</th>\n",
              "      <th>first_name</th>\n",
              "      <th>last_name</th>\n",
              "      <th>phone</th>\n",
              "      <th>credit_limit</th>\n",
              "      <th>is_vip</th>\n",
              "    </tr>\n",
              "  </thead>\n",
              "  <tbody>\n",
              "    <tr>\n",
              "      <th>0</th>\n",
              "      <td>103</td>\n",
              "      <td>Carine</td>\n",
              "      <td>Schmitt</td>\n",
              "      <td>40.32.2555</td>\n",
              "      <td>21000.0</td>\n",
              "      <td>False</td>\n",
              "    </tr>\n",
              "    <tr>\n",
              "      <th>1</th>\n",
              "      <td>112</td>\n",
              "      <td>Jean</td>\n",
              "      <td>King</td>\n",
              "      <td>7025551838</td>\n",
              "      <td>71800.0</td>\n",
              "      <td>True</td>\n",
              "    </tr>\n",
              "    <tr>\n",
              "      <th>2</th>\n",
              "      <td>114</td>\n",
              "      <td>Peter</td>\n",
              "      <td>Ferguson</td>\n",
              "      <td>03 9520 4555</td>\n",
              "      <td>117300.0</td>\n",
              "      <td>True</td>\n",
              "    </tr>\n",
              "    <tr>\n",
              "      <th>3</th>\n",
              "      <td>119</td>\n",
              "      <td>Janine</td>\n",
              "      <td>Labrune</td>\n",
              "      <td>40.67.8555</td>\n",
              "      <td>118200.0</td>\n",
              "      <td>True</td>\n",
              "    </tr>\n",
              "    <tr>\n",
              "      <th>4</th>\n",
              "      <td>121</td>\n",
              "      <td>Jonas</td>\n",
              "      <td>Bergulfsen</td>\n",
              "      <td>07-98 9555</td>\n",
              "      <td>81700.0</td>\n",
              "      <td>False</td>\n",
              "    </tr>\n",
              "    <tr>\n",
              "      <th>5</th>\n",
              "      <td>124</td>\n",
              "      <td>Susan</td>\n",
              "      <td>Nelson</td>\n",
              "      <td>4155551450</td>\n",
              "      <td>210500.0</td>\n",
              "      <td>False</td>\n",
              "    </tr>\n",
              "    <tr>\n",
              "      <th>6</th>\n",
              "      <td>125</td>\n",
              "      <td>Zbyszek</td>\n",
              "      <td>Piestrzeniewicz</td>\n",
              "      <td>(26) 642-7555</td>\n",
              "      <td>0.0</td>\n",
              "      <td>True</td>\n",
              "    </tr>\n",
              "    <tr>\n",
              "      <th>7</th>\n",
              "      <td>128</td>\n",
              "      <td>Roland</td>\n",
              "      <td>Keitel</td>\n",
              "      <td>+49 69 66 90 2555</td>\n",
              "      <td>59700.0</td>\n",
              "      <td>True</td>\n",
              "    </tr>\n",
              "    <tr>\n",
              "      <th>8</th>\n",
              "      <td>129</td>\n",
              "      <td>Julie</td>\n",
              "      <td>Murphy</td>\n",
              "      <td>6505555787</td>\n",
              "      <td>64600.0</td>\n",
              "      <td>True</td>\n",
              "    </tr>\n",
              "    <tr>\n",
              "      <th>9</th>\n",
              "      <td>131</td>\n",
              "      <td>Kwai</td>\n",
              "      <td>Lee</td>\n",
              "      <td>2125557818</td>\n",
              "      <td>114900.0</td>\n",
              "      <td>False</td>\n",
              "    </tr>\n",
              "  </tbody>\n",
              "</table>\n",
              "</div>"
            ],
            "text/plain": [
              "   customer_id first_name        last_name              phone  credit_limit  \\\n",
              "0          103    Carine           Schmitt         40.32.2555       21000.0   \n",
              "1          112       Jean             King         7025551838       71800.0   \n",
              "2          114      Peter         Ferguson       03 9520 4555      117300.0   \n",
              "3          119    Janine           Labrune         40.67.8555      118200.0   \n",
              "4          121     Jonas        Bergulfsen         07-98 9555       81700.0   \n",
              "5          124      Susan           Nelson         4155551450      210500.0   \n",
              "6          125   Zbyszek   Piestrzeniewicz      (26) 642-7555           0.0   \n",
              "7          128     Roland           Keitel  +49 69 66 90 2555       59700.0   \n",
              "8          129      Julie           Murphy         6505555787       64600.0   \n",
              "9          131       Kwai              Lee         2125557818      114900.0   \n",
              "\n",
              "   is_vip  \n",
              "0   False  \n",
              "1    True  \n",
              "2    True  \n",
              "3    True  \n",
              "4   False  \n",
              "5   False  \n",
              "6    True  \n",
              "7    True  \n",
              "8    True  \n",
              "9   False  "
            ]
          },
          "execution_count": 20,
          "metadata": {},
          "output_type": "execute_result"
        }
      ],
      "source": [
        "merged_df.head(10)"
      ]
    },
    {
      "cell_type": "code",
      "execution_count": null,
      "metadata": {
        "id": "YuKgb7zHmU_p"
      },
      "outputs": [],
      "source": [
        "for index, row in merged_df.iterrows():\n",
        "    update_query = \"\"\"\n",
        "        UPDATE customer_dim\n",
        "        SET is_vip = %s\n",
        "        WHERE customer_id = %s\n",
        "    \"\"\"\n",
        "    values = (row['is_vip'], row['customer_id'])\n",
        "    cursor.execute(update_query, values)\n",
        "\n",
        "conn.commit()\n",
        "conn.close()"
      ]
    }
  ],
  "metadata": {
    "colab": {
      "provenance": []
    },
    "kernelspec": {
      "display_name": "Python 3 (ipykernel)",
      "language": "python",
      "name": "python3"
    },
    "language_info": {
      "codemirror_mode": {
        "name": "ipython",
        "version": 3
      },
      "file_extension": ".py",
      "mimetype": "text/x-python",
      "name": "python",
      "nbconvert_exporter": "python",
      "pygments_lexer": "ipython3",
      "version": "3.11.3"
    }
  },
  "nbformat": 4,
  "nbformat_minor": 0
}