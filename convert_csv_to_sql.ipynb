{
  "nbformat": 4,
  "nbformat_minor": 0,
  "metadata": {
    "colab": {
      "provenance": [],
      "authorship_tag": "ABX9TyPZ76VVndsIgGLfpG9/jIFS",
      "include_colab_link": true
    },
    "kernelspec": {
      "name": "python3",
      "display_name": "Python 3"
    },
    "language_info": {
      "name": "python"
    }
  },
  "cells": [
    {
      "cell_type": "markdown",
      "metadata": {
        "id": "view-in-github",
        "colab_type": "text"
      },
      "source": [
        "<a href=\"https://colab.research.google.com/github/jennyschilling/DataProject1_DS2002/blob/main/convert_csv_to_sql.ipynb\" target=\"_parent\"><img src=\"https://colab.research.google.com/assets/colab-badge.svg\" alt=\"Open In Colab\"/></a>"
      ]
    },
    {
      "cell_type": "code",
      "execution_count": null,
      "metadata": {
        "id": "vmtFgEU3lJMA"
      },
      "outputs": [],
      "source": [
        "import pandas as pd\n",
        "import pymysql"
      ]
    },
    {
      "cell_type": "code",
      "source": [
        "db_config = {\n",
        "    'host': 'localhost',\n",
        "    'user': 'root',\n",
        "    'password': 'Passw0rd123',\n",
        "    'database': 'retail_sales_dw'\n",
        "}"
      ],
      "metadata": {
        "id": "yxyk5FGNmK0L"
      },
      "execution_count": null,
      "outputs": []
    },
    {
      "cell_type": "code",
      "source": [
        "customer_vip_data = pd.read_csv('customer_vip_info.csv', dtype={'is_vip': int})"
      ],
      "metadata": {
        "id": "nbbjShaUmPkD"
      },
      "execution_count": null,
      "outputs": []
    },
    {
      "cell_type": "code",
      "source": [
        "conn = pymysql.connect(**db_config)\n",
        "customer_dim = pd.read_sql('SELECT customer_id, first_name, last_name FROM customer_dim', conn)\n",
        "\n",
        "merged_df = pd.merge(customer_dim, customer_vip_data, on=['first_name', 'last_name'], how='left')"
      ],
      "metadata": {
        "id": "q3Rcgz5wmRDA"
      },
      "execution_count": null,
      "outputs": []
    },
    {
      "cell_type": "code",
      "source": [
        "merged_df['is_vip'] = merged_df['is_vip'].fillna(False)\n",
        "conn = pymysql.connect(**db_config)\n",
        "cursor = conn.cursor()\n",
        "\n",
        "cursor.execute(\"ALTER TABLE customer_dim ADD COLUMN IF NOT EXISTS is_vip BOOL\")"
      ],
      "metadata": {
        "id": "KNRSji2zmS7N"
      },
      "execution_count": null,
      "outputs": []
    },
    {
      "cell_type": "code",
      "source": [
        "for index, row in merged_df.iterrows():\n",
        "    update_query = \"\"\"\n",
        "        UPDATE customer_dim\n",
        "        SET is_vip = %s\n",
        "        WHERE customer_id = %s\n",
        "    \"\"\"\n",
        "    values = (row['is_vip'], row['customer_id'])\n",
        "    cursor.execute(update_query, values)\n",
        "\n",
        "conn.commit()\n",
        "conn.close()"
      ],
      "metadata": {
        "id": "YuKgb7zHmU_p"
      },
      "execution_count": null,
      "outputs": []
    }
  ]
}